{
 "cells": [
  {
   "cell_type": "markdown",
   "metadata": {},
   "source": [
    "# Significant Words\n",
    "\n",
    "* Date: 18 August 2019\n",
    "* Author: Rafael C. Alvarado\n",
    "* Subject: Textual OEnolytics \n",
    "\n",
    "In this notebook we focus on the \"unstructured data\" contained in the wine reviews themselves. We explore some frequency-based measures for estimating the significance of words and bigrams in the corpus."
   ]
  },
  {
   "cell_type": "markdown",
   "metadata": {},
   "source": [
    "\n",
    "# Setup"
   ]
  },
  {
   "cell_type": "markdown",
   "metadata": {},
   "source": [
    "## Import libraries"
   ]
  },
  {
   "cell_type": "code",
   "execution_count": 1,
   "metadata": {},
   "outputs": [],
   "source": [
    "import pandas as pd\n",
    "import numpy as np\n",
    "import sqlite3\n",
    "import matplotlib\n",
    "import matplotlib.pyplot as plt\n",
    "import plotly_express as px\n",
    "from IPython.core.display import display, HTML"
   ]
  },
  {
   "cell_type": "markdown",
   "metadata": {},
   "source": [
    "## Pragmas"
   ]
  },
  {
   "cell_type": "code",
   "execution_count": 2,
   "metadata": {},
   "outputs": [],
   "source": [
    "%matplotlib inline\n",
    "matplotlib.style.use('ggplot')"
   ]
  },
  {
   "cell_type": "markdown",
   "metadata": {},
   "source": [
    "## Modify HTML styles"
   ]
  },
  {
   "cell_type": "code",
   "execution_count": 3,
   "metadata": {},
   "outputs": [
    {
     "data": {
      "text/html": [
       "<style>\n",
       "p {margin: rem; }\n",
       ".large {font-size: 16pt;}\n",
       ".readerly {font-size: 14pt; font-family: serif;}\n",
       "div.title {font-weight:bold; margin-bottom:.5rem;}\n",
       "</style>\n"
      ],
      "text/plain": [
       "<IPython.core.display.HTML object>"
      ]
     },
     "metadata": {},
     "output_type": "display_data"
    }
   ],
   "source": [
    "%%html\n",
    "<style>\n",
    "p {margin: rem; }\n",
    ".large {font-size: 16pt;}\n",
    ".readerly {font-size: 14pt; font-family: serif;}\n",
    "div.title {font-weight:bold; margin-bottom:.5rem;}\n",
    "</style>"
   ]
  },
  {
   "cell_type": "code",
   "execution_count": 4,
   "metadata": {},
   "outputs": [],
   "source": [
    "def show(str, el='DIV', css_class=''):\n",
    "    display(HTML(\"<{0} class='{1}'>{2}</{0}>\".format(el, css_class, str)))"
   ]
  },
  {
   "cell_type": "markdown",
   "metadata": {},
   "source": [
    "##  Import data"
   ]
  },
  {
   "cell_type": "code",
   "execution_count": null,
   "metadata": {},
   "outputs": [],
   "source": [
    "dbdir = '/Users/rca2t/CODE/polo2-test/PUB/winereviews/'\n",
    "db = dbdir + 'winereviews-corpus.db'\n",
    "with sqlite3.connect(db) as db:\n",
    "    doc = pd.read_sql('select * from doc', db, index_col='doc_id')\n",
    "    doctoken = pd.read_sql('select * from doctoken', db, index_col=['doc_id','sentence_id','token_ord'])\n",
    "    vocab = pd.read_sql('select * from token', db, index_col='token_str')\n",
    "    bigrams = pd.read_sql('select * from ngrambi', db, index_col='ngram')\n",
    "    docbigrams = pd.read_sql('select * from ngrambidoc', db, index_col=['ngram','doc_id'])"
   ]
  },
  {
   "cell_type": "markdown",
   "metadata": {},
   "source": [
    "# Vocabulary"
   ]
  },
  {
   "cell_type": "markdown",
   "metadata": {},
   "source": [
    "## Signifant Words (Unigrams)\n",
    "\n",
    "We use TFIDF to measure the significance of words in the corpus. TFIDF combines the frequency of a word in a document along with its overall frequency in the corpus. If a word is used all the time, it is considered insignificant. \n",
    "\n",
    "```\n",
    "TF: Frequency of words in a document  \n",
    "DF: Number of documents in which a word appears in the corpus  \n",
    "IDF = 1 / DF  \n",
    "N: Number of words in the corpus  \n",
    "TFIDF = TF * log10(N/IDF)\n",
    "```\n",
    "\n",
    "We sum the TFIDF of each word across the corpus to get the most significant of words in the vocabulary.\n",
    "\n",
    "Note that TFIDF is roughly equivalent to term frequecny divided by term entropy."
   ]
  },
  {
   "cell_type": "code",
   "execution_count": null,
   "metadata": {},
   "outputs": [],
   "source": [
    "vocab.sort_values('tfidf_sum', ascending=False).head(20)[['tfidf_sum']].style.bar()"
   ]
  },
  {
   "cell_type": "markdown",
   "metadata": {},
   "source": [
    "# Bigrams\n",
    "\n",
    "We look at word pairs."
   ]
  },
  {
   "cell_type": "markdown",
   "metadata": {},
   "source": [
    "## Bigram Frequency"
   ]
  },
  {
   "cell_type": "code",
   "execution_count": null,
   "metadata": {},
   "outputs": [],
   "source": [
    "bigrams.sort_values('freq', ascending=False).freq.to_frame().head(20).style.bar()"
   ]
  },
  {
   "cell_type": "markdown",
   "metadata": {},
   "source": [
    "## Bigram  Entropy"
   ]
  },
  {
   "cell_type": "code",
   "execution_count": null,
   "metadata": {
    "scrolled": false
   },
   "outputs": [],
   "source": [
    "bigrams.sort_values('entropy', ascending=False).entropy.to_frame().head(20).style.bar()"
   ]
  },
  {
   "cell_type": "markdown",
   "metadata": {},
   "source": [
    "## Bigram TFIDF\n",
    "\n",
    "NOTE TO SELF: This should be computed by Polo."
   ]
  },
  {
   "cell_type": "code",
   "execution_count": null,
   "metadata": {},
   "outputs": [],
   "source": [
    "# docbigrams['tp'] = docbigrams['tf'] / docbigrams.groupby('doc_id')['tf'].count()\n",
    "# docbigrams['tfidf'] = docbigrams['tp'] * bigrams['idf']\n",
    "docbigrams['tfidf'] = (docbigrams['tf'] / docbigrams.groupby('doc_id')['tf'].count()) * bigrams['idf']\n",
    "bigrams['tfidf_sum'] = docbigrams.groupby('ngram').tfidf.sum()"
   ]
  },
  {
   "cell_type": "code",
   "execution_count": null,
   "metadata": {},
   "outputs": [],
   "source": [
    "bigrams.tfidf_sum.sort_values(ascending=False).head(20).to_frame().style.bar()"
   ]
  },
  {
   "cell_type": "markdown",
   "metadata": {},
   "source": [
    "##  Bigram TFTR (experimental)\n",
    "\n",
    "A new measure -- Term Frequency Term Redundancy\n",
    "\n",
    "`R = 1 - (H / Hmax)`"
   ]
  },
  {
   "cell_type": "code",
   "execution_count": null,
   "metadata": {},
   "outputs": [],
   "source": [
    "max_entropy = (1 / bigrams.shape[0]) * np.log2(bigrams.shape[0])\n",
    "bigrams['redundancy'] = 1 - (bigrams['entropy'] / max_entropy)\n",
    "docbigrams['tfidh'] = (docbigrams['tf'] / docbigrams.groupby('doc_id')['tf'].count()) * bigrams['redundancy']\n",
    "bigrams['tfidh_sum'] = docbigrams.groupby('ngram').tfidh.sum() * -1"
   ]
  },
  {
   "cell_type": "code",
   "execution_count": null,
   "metadata": {},
   "outputs": [],
   "source": [
    "bigrams['tfidh_sum'].sort_values(ascending=False).to_frame().head(20).style.bar()"
   ]
  },
  {
   "cell_type": "code",
   "execution_count": null,
   "metadata": {},
   "outputs": [],
   "source": [
    "# px.scatter(bigrams, 'tfidf_sum', 'tfidh_sum', trendline='lowess')"
   ]
  },
  {
   "cell_type": "markdown",
   "metadata": {},
   "source": [
    "# Words associated with Good and Bad wines\n",
    "\n",
    "Select the review with high and low ratings, using the 80th and 20th percentiles respectively."
   ]
  },
  {
   "cell_type": "markdown",
   "metadata": {},
   "source": [
    "## Convert points into grades (A and B) "
   ]
  },
  {
   "cell_type": "code",
   "execution_count": null,
   "metadata": {},
   "outputs": [],
   "source": [
    "doc.loc[doc.doc_points < doc.doc_points.quantile(.2), 'grade'] = 'B'\n",
    "doc.loc[doc.doc_points > doc.doc_points.quantile(.8), 'grade'] = 'A'\n",
    "doc['grade'] = doc['grade'].fillna('N')"
   ]
  },
  {
   "cell_type": "code",
   "execution_count": null,
   "metadata": {
    "scrolled": true
   },
   "outputs": [],
   "source": [
    "Amin =  doc.loc[doc.grade == 'A'].doc_points.min()\n",
    "Bmax = doc.loc[doc.grade == 'B'].doc_points.max()"
   ]
  },
  {
   "cell_type": "code",
   "execution_count": null,
   "metadata": {
    "scrolled": true
   },
   "outputs": [],
   "source": [
    "show(\"Grade A >= {}<br/>Grade B <= {}\".format(Amin, Bmax), css_class='large')"
   ]
  },
  {
   "cell_type": "code",
   "execution_count": null,
   "metadata": {
    "scrolled": true
   },
   "outputs": [],
   "source": [
    "doc.grade.value_counts().plot(kind='pie', figsize=(5,5))"
   ]
  },
  {
   "cell_type": "markdown",
   "metadata": {},
   "source": [
    "## Apply doc grades to words"
   ]
  },
  {
   "cell_type": "code",
   "execution_count": null,
   "metadata": {},
   "outputs": [],
   "source": [
    "dtg = doctoken.join(doc['grade'], on='doc_id', how='inner')\n",
    "dtg.index.names  = ['doc_id', 'sentence_id', 'token_ord'] # Because doc_id gets lost for some reason"
   ]
  },
  {
   "cell_type": "code",
   "execution_count": null,
   "metadata": {
    "scrolled": true
   },
   "outputs": [],
   "source": [
    "dtg.head()"
   ]
  },
  {
   "cell_type": "markdown",
   "metadata": {},
   "source": [
    "##  Find words strongly associated with each grade"
   ]
  },
  {
   "cell_type": "code",
   "execution_count": null,
   "metadata": {},
   "outputs": [],
   "source": [
    "G = dtg.groupby(['grade', 'token_str']).count().unstack().fillna(0).T\n",
    "G.index = G.index.droplevel(0)\n",
    "G = G / G.sum()"
   ]
  },
  {
   "cell_type": "code",
   "execution_count": null,
   "metadata": {},
   "outputs": [],
   "source": [
    "G['A'].sort_values(ascending=False).head(10)"
   ]
  },
  {
   "cell_type": "code",
   "execution_count": null,
   "metadata": {},
   "outputs": [],
   "source": [
    "G['B'].sort_values(ascending=False).head(10)"
   ]
  },
  {
   "cell_type": "code",
   "execution_count": null,
   "metadata": {},
   "outputs": [],
   "source": [
    "G['x'] = G.A - G.B"
   ]
  },
  {
   "cell_type": "markdown",
   "metadata": {},
   "source": [
    "### Top words associated with A wines"
   ]
  },
  {
   "cell_type": "code",
   "execution_count": null,
   "metadata": {},
   "outputs": [],
   "source": [
    "G.x.sort_values(ascending=False).head(10).to_frame().style.bar()"
   ]
  },
  {
   "cell_type": "markdown",
   "metadata": {},
   "source": [
    "###  Top words associated with B wines"
   ]
  },
  {
   "cell_type": "code",
   "execution_count": null,
   "metadata": {
    "scrolled": true
   },
   "outputs": [],
   "source": [
    "G.x.sort_values(ascending=True).head(10).to_frame().style.bar()"
   ]
  },
  {
   "cell_type": "markdown",
   "metadata": {},
   "source": [
    "## Do the same for bigrams"
   ]
  },
  {
   "cell_type": "code",
   "execution_count": null,
   "metadata": {},
   "outputs": [],
   "source": [
    "docbigrams = docbigrams.reset_index().set_index(['doc_id', 'ngram']).sort_index()"
   ]
  },
  {
   "cell_type": "code",
   "execution_count": null,
   "metadata": {},
   "outputs": [],
   "source": [
    "dbg = docbigrams.join(doc['grade'], on='doc_id', how='inner')\n",
    "dbg.index.names  = ['doc_id', 'ngram'] # Because doc_id gets lost"
   ]
  },
  {
   "cell_type": "code",
   "execution_count": null,
   "metadata": {},
   "outputs": [],
   "source": [
    "dbg.head()"
   ]
  },
  {
   "cell_type": "code",
   "execution_count": null,
   "metadata": {},
   "outputs": [],
   "source": [
    "G1 = dbg.groupby(['grade', 'ngram']).tfidh.count().unstack().fillna(0).T\n",
    "G1 = G1 / G1.sum()"
   ]
  },
  {
   "cell_type": "code",
   "execution_count": null,
   "metadata": {},
   "outputs": [],
   "source": [
    "G1.A.sort_values(ascending=False).to_frame().head(10)"
   ]
  },
  {
   "cell_type": "code",
   "execution_count": null,
   "metadata": {
    "scrolled": true
   },
   "outputs": [],
   "source": [
    "G1.B.sort_values(ascending=False).to_frame().head(10)"
   ]
  },
  {
   "cell_type": "code",
   "execution_count": null,
   "metadata": {},
   "outputs": [],
   "source": [
    "G1['x'] = G1.A - G1.B"
   ]
  },
  {
   "cell_type": "markdown",
   "metadata": {},
   "source": [
    "### Top bigrams associated with A wines"
   ]
  },
  {
   "cell_type": "code",
   "execution_count": null,
   "metadata": {},
   "outputs": [],
   "source": [
    "G1.x.sort_values(ascending=False).to_frame().head(30).style.bar()"
   ]
  },
  {
   "cell_type": "markdown",
   "metadata": {},
   "source": [
    "### Top bigrams associated with B wines"
   ]
  },
  {
   "cell_type": "code",
   "execution_count": null,
   "metadata": {},
   "outputs": [],
   "source": [
    "G1.x.sort_values(ascending=True).to_frame().head(20).style.bar()"
   ]
  },
  {
   "cell_type": "code",
   "execution_count": null,
   "metadata": {},
   "outputs": [],
   "source": [
    "G1['A_z'] = (G1.A - G1.A.mean()) / G1.A.std()"
   ]
  },
  {
   "cell_type": "code",
   "execution_count": null,
   "metadata": {},
   "outputs": [],
   "source": [
    "G1['B_z'] = (G1.B - G1.B.mean()) / G1.B.std()"
   ]
  },
  {
   "cell_type": "code",
   "execution_count": null,
   "metadata": {},
   "outputs": [],
   "source": [
    "G1['x_z'] = (G1.x - G1.x.mean()) / G1.x.std()"
   ]
  },
  {
   "cell_type": "code",
   "execution_count": null,
   "metadata": {},
   "outputs": [],
   "source": [
    "n = 20\n",
    "Au = G.x.sort_values(ascending=False).head(n).to_frame().reset_index().rename(columns={'x':'A', 'token_str':'unigram'})\n",
    "Ab = G1.x.sort_values(ascending=False).head(n).to_frame().reset_index().rename(columns={'x':'A', 'ngram':'bigram'})\n",
    "Bu = G.x.sort_values(ascending=True).head(n).to_frame().reset_index().rename(columns={'x':'B',  'token_str':'unigram'})\n",
    "Bb = G1.x.sort_values(ascending=True).head(n).to_frame().reset_index().rename(columns={'x':'B', 'ngram':'bigram'})"
   ]
  },
  {
   "cell_type": "code",
   "execution_count": null,
   "metadata": {},
   "outputs": [],
   "source": [
    "E = pd.concat([Au,Ab,Bu,Bb], 1, sort=False)"
   ]
  },
  {
   "cell_type": "code",
   "execution_count": null,
   "metadata": {},
   "outputs": [],
   "source": [
    "E"
   ]
  },
  {
   "cell_type": "code",
   "execution_count": null,
   "metadata": {},
   "outputs": [],
   "source": [
    "pd.concat([G.x.sort_values(ascending=True).head(20), \n",
    "          G.x.sort_values(ascending=True).tail(20)]).plot(kind='barh', figsize=(5,20))"
   ]
  },
  {
   "cell_type": "code",
   "execution_count": null,
   "metadata": {},
   "outputs": [],
   "source": [
    "pd.concat([G1.x.sort_values(ascending=True).head(20), \n",
    "          G1.x.sort_values(ascending=True).tail(20)]).plot(kind='barh', figsize=(5,20))"
   ]
  },
  {
   "cell_type": "code",
   "execution_count": null,
   "metadata": {},
   "outputs": [],
   "source": [
    "G1.x.sort_values(ascending=False).head(20).plot(kind='barh', figsize=(5,10))"
   ]
  },
  {
   "cell_type": "markdown",
   "metadata": {},
   "source": [
    "# Conclusions"
   ]
  },
  {
   "cell_type": "markdown",
   "metadata": {},
   "source": [
    "**Words and prhases to use when tasting wines**\n",
    "\n",
    "* finish, acidity, aromas, tannis, ripeness\n",
    "* black cherry, crisp acitiy, firm tannins, black pepper, white pepper "
   ]
  },
  {
   "cell_type": "code",
   "execution_count": null,
   "metadata": {},
   "outputs": [],
   "source": [
    "G.to_csv('winereview-vocab.csv')\n",
    "G1.to_csv('winereview-bigrams.csv')"
   ]
  },
  {
   "cell_type": "code",
   "execution_count": null,
   "metadata": {},
   "outputs": [],
   "source": [
    "# END"
   ]
  },
  {
   "cell_type": "markdown",
   "metadata": {},
   "source": [
    "# Postscript: Asssessing the Voss Effect"
   ]
  },
  {
   "cell_type": "code",
   "execution_count": null,
   "metadata": {},
   "outputs": [],
   "source": [
    "from sklearn.feature_extraction.text import TfidfVectorizer\n",
    "import pandas as pd"
   ]
  },
  {
   "cell_type": "code",
   "execution_count": null,
   "metadata": {},
   "outputs": [],
   "source": [
    "# corpus = pd.read_csv('winereviews.csv')"
   ]
  },
  {
   "cell_type": "code",
   "execution_count": null,
   "metadata": {},
   "outputs": [],
   "source": [
    "# corpus.head()"
   ]
  },
  {
   "cell_type": "code",
   "execution_count": null,
   "metadata": {},
   "outputs": [],
   "source": [
    "# vectorizer = TfidfVectorizer(use_idf=True)\n",
    "# X = vectorizer.fit_transform(corpus.description)\n",
    "# df = pd.DataFrame(X.todense(), index=corpus.index)"
   ]
  },
  {
   "cell_type": "code",
   "execution_count": null,
   "metadata": {},
   "outputs": [],
   "source": []
  }
 ],
 "metadata": {
  "hide_input": false,
  "kernelspec": {
   "display_name": "Python 3",
   "language": "python",
   "name": "python3"
  },
  "language_info": {
   "codemirror_mode": {
    "name": "ipython",
    "version": 3
   },
   "file_extension": ".py",
   "mimetype": "text/x-python",
   "name": "python",
   "nbconvert_exporter": "python",
   "pygments_lexer": "ipython3",
   "version": "3.6.8"
  },
  "latex_envs": {
   "LaTeX_envs_menu_present": true,
   "autoclose": true,
   "autocomplete": true,
   "bibliofile": "biblio.bib",
   "cite_by": "apalike",
   "current_citInitial": 1,
   "eqLabelWithNumbers": true,
   "eqNumInitial": 1,
   "hotkeys": {
    "equation": "Ctrl-E",
    "itemize": "Ctrl-I"
   },
   "labels_anchors": false,
   "latex_user_defs": false,
   "report_style_numbering": false,
   "user_envs_cfg": false
  },
  "toc": {
   "base_numbering": 1,
   "nav_menu": {},
   "number_sections": true,
   "sideBar": true,
   "skip_h1_title": false,
   "title_cell": "Table of Contents",
   "title_sidebar": "Contents",
   "toc_cell": false,
   "toc_position": {
    "height": "calc(100% - 180px)",
    "left": "10px",
    "top": "150px",
    "width": "288px"
   },
   "toc_section_display": true,
   "toc_window_display": true
  },
  "toc-autonumbering": true,
  "varInspector": {
   "cols": {
    "lenName": 16,
    "lenType": 16,
    "lenVar": 40
   },
   "kernels_config": {
    "python": {
     "delete_cmd_postfix": "",
     "delete_cmd_prefix": "del ",
     "library": "var_list.py",
     "varRefreshCmd": "print(var_dic_list())"
    },
    "r": {
     "delete_cmd_postfix": ") ",
     "delete_cmd_prefix": "rm(",
     "library": "var_list.r",
     "varRefreshCmd": "cat(var_dic_list()) "
    }
   },
   "position": {
    "height": "469.85px",
    "left": "1093px",
    "right": "20px",
    "top": "120px",
    "width": "327px"
   },
   "types_to_exclude": [
    "module",
    "function",
    "builtin_function_or_method",
    "instance",
    "_Feature"
   ],
   "window_display": false
  }
 },
 "nbformat": 4,
 "nbformat_minor": 4
}
